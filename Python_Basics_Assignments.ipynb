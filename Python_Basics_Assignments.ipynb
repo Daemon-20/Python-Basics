{
  "nbformat": 4,
  "nbformat_minor": 0,
  "metadata": {
    "colab": {
      "provenance": []
    },
    "kernelspec": {
      "name": "python3",
      "display_name": "Python 3"
    },
    "language_info": {
      "name": "python"
    }
  },
  "cells": [
    {
      "cell_type": "markdown",
      "source": [
        "# Text Questions"
      ],
      "metadata": {
        "id": "Nwd3cq-KLEFP"
      }
    },
    {
      "cell_type": "markdown",
      "source": [
        "1. What is Python, and why is it popular?\n",
        "\n",
        "- Python is a high-level, interpreted, general-purpose programming language. It is so popular because it is easy to use, readable, and has rich libraries, and hence it is ideal for numerous applications such as web development, data analysis, AI, and automation."
      ],
      "metadata": {
        "id": "6yF2AkhELlah"
      }
    },
    {
      "cell_type": "markdown",
      "source": [
        "2. What is an interpreter in Python?\n",
        "- A Python interpreter is a program that reads and runs Python code line by line."
      ],
      "metadata": {
        "id": "NjTMCP_GNo4S"
      }
    },
    {
      "cell_type": "markdown",
      "source": [
        "3. What are pre-defined keywords in Python?\n",
        "- Pre-defined keywords in Python are reserved words with special meanings and uses in the language. They cannot be used as identifiers e.g., variable names, function names, etc."
      ],
      "metadata": {
        "id": "g7EGpi_zNo11"
      }
    },
    {
      "cell_type": "markdown",
      "source": [
        "4. Can keywords be used as variable names?\n",
        "- No, keywords cannot be used as variable names."
      ],
      "metadata": {
        "id": "N3zT23xkNozO"
      }
    },
    {
      "cell_type": "markdown",
      "source": [
        "5. What is mutability in Python?\n",
        "- Mutability in Python is the ability of an object's value to be modified once it has been created."
      ],
      "metadata": {
        "id": "-ha2Oq4DNow0"
      }
    },
    {
      "cell_type": "markdown",
      "source": [
        "6. Why are lists mutable but tuples are immutable?\n",
        "- Lists are mutable because their contents may be altered once they are created e.g., adding, deleting, or modifying contents.\n",
        "\n",
        " Tuples are immutable because their contents may not be altered once they are created."
      ],
      "metadata": {
        "id": "2aOVdxoANouW"
      }
    },
    {
      "cell_type": "markdown",
      "source": [
        "7. What is the difference between “==” and “is” operators in Python?\n",
        "- The \"==\" operator verifies whether two objects have the same value, and the \"is\" operator verifies whether two objects point to the same location in memory."
      ],
      "metadata": {
        "id": "sEVOcFTXNooq"
      }
    },
    {
      "cell_type": "markdown",
      "source": [
        "8. What are logical operators in Python?\n",
        "- Python logical operators are applied to apply logical operations to Boolean values e.g., \"and\", \"or\", and \"not\".\n"
      ],
      "metadata": {
        "id": "XaDCWPYkNojF"
      }
    },
    {
      "cell_type": "markdown",
      "source": [
        "9. What is type casting in Python?\n",
        "- Type casting in Python refers to the conversion of a variable from one data type to another."
      ],
      "metadata": {
        "id": "M15nhegGNodd"
      }
    },
    {
      "cell_type": "markdown",
      "source": [
        "10. What is the difference between implicit and explicit type casting?\n",
        "- Implicit type casting is when Python does data type conversion automatically, whereas explicit type casting is when the programmer does data type conversion manually using functions such as int(), str(), etc."
      ],
      "metadata": {
        "id": "sOEOF20YNoNi"
      }
    },
    {
      "cell_type": "markdown",
      "source": [
        "11. What is the purpose of conditional statements in Python?\n",
        "- Conditional statements in Python are implemented to perform various blocks of code depending on whether the condition is true or false.\n"
      ],
      "metadata": {
        "id": "gSjcAeHANn7U"
      }
    },
    {
      "cell_type": "markdown",
      "source": [
        "12. How does the elif statement work?\n",
        "- elif statement (else if) is implemented in conditional statements to test further conditions if the prior if condition is not met.\n"
      ],
      "metadata": {
        "id": "2Vg_EP1DOT0h"
      }
    },
    {
      "cell_type": "markdown",
      "source": [
        "13. What is the difference between for and while loops?\n",
        "- A for loop is utilized to loop through a sequence (such as a list, tuple, or string) some fixed number of times. A while loop is utilized to loop over a piece of code over and over while a condition remains true."
      ],
      "metadata": {
        "id": "m0HpgxInOTvS"
      }
    },
    {
      "cell_type": "markdown",
      "source": [
        "14. Describe a scenario where a while loop is more suitable than a for loop.\n",
        "- While loop is preferable if the amount of iterations is not known or variable based on a condition which can alter while the loop is running, like waiting for input from the user or checking a process."
      ],
      "metadata": {
        "id": "7yo7izBgOTpH"
      }
    },
    {
      "cell_type": "markdown",
      "source": [
        "# Practical Questions"
      ],
      "metadata": {
        "id": "IjkdEH9bOTcI"
      }
    },
    {
      "cell_type": "code",
      "execution_count": null,
      "metadata": {
        "colab": {
          "base_uri": "https://localhost:8080/"
        },
        "id": "tRUMVYpcK4ds",
        "outputId": "a10bb1c5-5b36-47ee-b8a3-4a6378ead6f4"
      },
      "outputs": [
        {
          "output_type": "stream",
          "name": "stdout",
          "text": [
            "Hello, World!\n"
          ]
        }
      ],
      "source": [
        "#1. Write a Python program to print “Hello, World!”\n",
        "\n",
        "print(\"Hello, World!\")"
      ]
    },
    {
      "cell_type": "code",
      "source": [
        "#2. Write a Python program that displays your name and age.\n",
        "\n",
        "name = \"Abhinab Singha\"\n",
        "age = 24\n",
        "print(\"Name:\", name)\n",
        "print(\"Age:\", age)"
      ],
      "metadata": {
        "colab": {
          "base_uri": "https://localhost:8080/"
        },
        "id": "SW3TepfaRrUu",
        "outputId": "9690574b-b90f-4d10-bb8c-ac5e144ac0d8"
      },
      "execution_count": null,
      "outputs": [
        {
          "output_type": "stream",
          "name": "stdout",
          "text": [
            "Name: Abhinab Singha\n",
            "Age: 24\n"
          ]
        }
      ]
    },
    {
      "cell_type": "code",
      "source": [
        "#3. Write code to print all the pre-defined keywords in Python using the keyword library.\n",
        "\n",
        "import keyword\n",
        "print(keyword.kwlist)"
      ],
      "metadata": {
        "colab": {
          "base_uri": "https://localhost:8080/"
        },
        "id": "mnIJZksLSI-G",
        "outputId": "023a7d96-c43d-439e-ade0-39b97735df1b"
      },
      "execution_count": null,
      "outputs": [
        {
          "output_type": "stream",
          "name": "stdout",
          "text": [
            "['False', 'None', 'True', 'and', 'as', 'assert', 'async', 'await', 'break', 'class', 'continue', 'def', 'del', 'elif', 'else', 'except', 'finally', 'for', 'from', 'global', 'if', 'import', 'in', 'is', 'lambda', 'nonlocal', 'not', 'or', 'pass', 'raise', 'return', 'try', 'while', 'with', 'yield']\n"
          ]
        }
      ]
    },
    {
      "cell_type": "code",
      "source": [
        "#4. Write a program that checks if a given word is a Python keyword.\n",
        "\n",
        "import keyword\n",
        "word = input(\"Enter a word: \")\n",
        "if keyword.iskeyword(word):\n",
        "    print(word, \"is a Python keyword\")\n",
        "else:\n",
        "    print(word, \"is not a Python keyword\")"
      ],
      "metadata": {
        "colab": {
          "base_uri": "https://localhost:8080/"
        },
        "id": "CymZoHX4T9tR",
        "outputId": "ee38e437-4300-4bd7-c84e-dfcb87ee0193"
      },
      "execution_count": null,
      "outputs": [
        {
          "output_type": "stream",
          "name": "stdout",
          "text": [
            "Enter a word: else\n",
            "else is a Python keyword\n"
          ]
        }
      ]
    },
    {
      "cell_type": "code",
      "source": [
        "#5. Create a list and tuple in Python, and demonstrate how attempting to change an element works differently for each.\n",
        "\n",
        "\n",
        "my_list = [1, 2, 3]\n",
        "\n",
        "my_tuple = (1, 2, 3)\n",
        "\n",
        "my_list[0] = 10\n",
        "print(\"Modified list:\", my_list)\n",
        "\n",
        "# my_tuple[0] = 10\n",
        "# print(\"Modified tuple:\", my_tuple)\n",
        "# This is in comments as this raises an error\n",
        "\n",
        "print(\"Tuples are immutable, lists are mutable\")"
      ],
      "metadata": {
        "colab": {
          "base_uri": "https://localhost:8080/"
        },
        "id": "DB3Vs0RxUVvj",
        "outputId": "1649e524-97f7-4990-821f-5b136fbc6896"
      },
      "execution_count": null,
      "outputs": [
        {
          "output_type": "stream",
          "name": "stdout",
          "text": [
            "Modified list: [10, 2, 3]\n",
            "Tuples are immutable, lists are mutable\n"
          ]
        }
      ]
    },
    {
      "cell_type": "code",
      "source": [
        "#6. Write a function to demonstrate the behavior of mutable and immutable arguments.\n",
        "\n",
        "def modify_values(data_list, count):\n",
        "    data_list.append(4)\n",
        "    count += 1\n",
        "\n",
        "    print(\"Inside function:\")\n",
        "    print(\"Modified list:\", data_list)\n",
        "    print(\"Incremented count:\", count)\n",
        "\n",
        "numbers = [1, 2, 3]\n",
        "initial_count = 5\n",
        "\n",
        "modify_values(numbers, initial_count)\n",
        "\n",
        "print(\"Outside function:\")\n",
        "print(\"Original list:\", numbers)\n",
        "print(\"Original count:\", initial_count)"
      ],
      "metadata": {
        "colab": {
          "base_uri": "https://localhost:8080/"
        },
        "id": "e2piyXERVPqW",
        "outputId": "d9418893-71f1-428e-e8d3-56485ea2e1f3"
      },
      "execution_count": null,
      "outputs": [
        {
          "output_type": "stream",
          "name": "stdout",
          "text": [
            "Inside function:\n",
            "Modified list: [1, 2, 3, 4]\n",
            "Incremented count: 6\n",
            "Outside function:\n",
            "Original list: [1, 2, 3, 4]\n",
            "Original count: 5\n"
          ]
        }
      ]
    },
    {
      "cell_type": "code",
      "source": [
        "#8. Write a program to demonstrate the use of logical operators.\n",
        "\n",
        "# 'and' logical operator\n",
        "x = 5\n",
        "y = 10\n",
        "if x > 0 and y < 20:\n",
        "    print(\"Both conditions are true\")\n",
        "\n",
        "#  'or'  logical operator\n",
        "a = 5\n",
        "b = 10\n",
        "if a == 5 or b == 5:\n",
        "    print(\"At least one condition is true\")\n",
        "\n",
        "#  'not'\n",
        "flag = True\n",
        "if not flag:\n",
        "    print(\"Flag is false\")\n",
        "else:\n",
        "    print(\"Flag is true\")"
      ],
      "metadata": {
        "colab": {
          "base_uri": "https://localhost:8080/"
        },
        "id": "mulvlK9TWeTz",
        "outputId": "cbd6e660-a13d-42a7-888f-86b038d9b0d6"
      },
      "execution_count": null,
      "outputs": [
        {
          "output_type": "stream",
          "name": "stdout",
          "text": [
            "Both conditions are true\n",
            "At least one condition is true\n",
            "Flag is true\n"
          ]
        }
      ]
    },
    {
      "cell_type": "code",
      "source": [
        "#9. Write a Python program to convert user input from string to integer, float, and boolean types.\n",
        "\n",
        "def convert_user_input():\n",
        "\n",
        "    user_input = input(\"Enter a value: \")\n",
        "\n",
        "    integer_value = int(user_input)\n",
        "    print(f\"Integer: {integer_value}\")\n",
        "\n",
        "    float_value = float(user_input)\n",
        "    print(f\"Float: {float_value}\")\n",
        "\n",
        "    if user_input.lower() in [\"true\", \"1\", \"t\", \"y\", \"yes\"]:\n",
        "        print(\"Boolean: True\")\n",
        "    elif user_input.lower() in [\"false\", \"0\", \"f\", \"n\", \"no\"]:\n",
        "        print(\"Boolean: False\")\n",
        "    else:\n",
        "        print(\"Cannot convert to boolean.\")\n",
        "\n",
        "convert_user_input()"
      ],
      "metadata": {
        "colab": {
          "base_uri": "https://localhost:8080/"
        },
        "id": "Gx9VfYE5XdFA",
        "outputId": "ec64fda3-75f8-4ec1-b7a2-14380431c83e"
      },
      "execution_count": null,
      "outputs": [
        {
          "output_type": "stream",
          "name": "stdout",
          "text": [
            "Enter a value: 456\n",
            "Integer: 456\n",
            "Float: 456.0\n",
            "Cannot convert to boolean.\n"
          ]
        }
      ]
    },
    {
      "cell_type": "code",
      "source": [
        "#10. Write code to demonstrate type casting with list elements.\n",
        "\n",
        "my_list = [\"1\", \"2\", \"3\", \"4\"]\n",
        "print(\"Original list:\", my_list)\n",
        "\n",
        "new_list = [int(x) for x in my_list]\n",
        "print(\"List of integers:\", new_list)\n",
        "\n",
        "string_list = [str(x) for x in new_list]\n",
        "print(\"List of strings:\", string_list)"
      ],
      "metadata": {
        "colab": {
          "base_uri": "https://localhost:8080/"
        },
        "id": "iM8cPVLnZUb5",
        "outputId": "85d691ee-e0bd-47af-9994-e8dc1e60ed7a"
      },
      "execution_count": null,
      "outputs": [
        {
          "output_type": "stream",
          "name": "stdout",
          "text": [
            "Original list: ['1', '2', '3', '4']\n",
            "List of integers: [1, 2, 3, 4]\n",
            "List of strings: ['1', '2', '3', '4']\n"
          ]
        }
      ]
    },
    {
      "cell_type": "code",
      "source": [
        "#7. Write a program that performs basic arithmetic operations on two user-input numbers.\n",
        "\n",
        "num1 = float(input(\"Enter the 1st number: \"))\n",
        "num2 = float(input(\"Enter the 2nd number: \"))\n",
        "\n",
        "\n",
        "add = num1 + num2\n",
        "sub = num1 - num2\n",
        "multiply = num1 * num2\n",
        "divide = num1 / num2\n",
        "\n",
        "print(\"Addition:\", add)\n",
        "print(\"Subtraction:\", sub)\n",
        "print(\"Multiplication:\", multiply)\n",
        "print(\"Division:\", divide)"
      ],
      "metadata": {
        "colab": {
          "base_uri": "https://localhost:8080/"
        },
        "id": "HV9ARciNZ9wt",
        "outputId": "2f4a2b13-3823-4f6d-aa04-14c9b737c403"
      },
      "execution_count": null,
      "outputs": [
        {
          "output_type": "stream",
          "name": "stdout",
          "text": [
            "Enter the 1st number: 345\n",
            "Enter the 2nd number: 33\n",
            "Addition: 378.0\n",
            "Subtraction: 312.0\n",
            "Multiplication: 11385.0\n",
            "Division: 10.454545454545455\n"
          ]
        }
      ]
    },
    {
      "cell_type": "code",
      "source": [
        "#11. Write a program that checks if a number is positive, negative, or zero.\n",
        "\n",
        "number = float(input(\"Enter a number: \"))\n",
        "\n",
        "if number > 0:\n",
        "    print(\"The number is positive\")\n",
        "elif number < 0:\n",
        "    print(\"The number is negative\")\n",
        "else:\n",
        "    print(\"The number is zero\")"
      ],
      "metadata": {
        "colab": {
          "base_uri": "https://localhost:8080/"
        },
        "id": "hA-3qyBJaVFf",
        "outputId": "add92e0b-4033-431e-ea4c-086568c7c045"
      },
      "execution_count": null,
      "outputs": [
        {
          "output_type": "stream",
          "name": "stdout",
          "text": [
            "Enter a number: 345\n",
            "The number is positive\n"
          ]
        }
      ]
    },
    {
      "cell_type": "code",
      "source": [
        "#12. Write a for loop to print numbers from 1 to 10.\n",
        "\n",
        "for i in range(1, 11):\n",
        "    print(i)"
      ],
      "metadata": {
        "colab": {
          "base_uri": "https://localhost:8080/"
        },
        "id": "aflKkyvDahzl",
        "outputId": "27c2b0a3-2f26-48d6-c2c2-23e984492168"
      },
      "execution_count": null,
      "outputs": [
        {
          "output_type": "stream",
          "name": "stdout",
          "text": [
            "1\n",
            "2\n",
            "3\n",
            "4\n",
            "5\n",
            "6\n",
            "7\n",
            "8\n",
            "9\n",
            "10\n"
          ]
        }
      ]
    },
    {
      "cell_type": "code",
      "source": [
        "#13. Write a Python program to find the sum of all even numbers between 1 and 50.\n",
        "\n",
        "sum_of_evens = 0\n",
        "for i in range(1, 51):\n",
        "    if i % 2 == 0:\n",
        "        sum_of_evens += i\n",
        "print(\"Sum of even numbers between 1 and 50:\", sum_of_evens)"
      ],
      "metadata": {
        "colab": {
          "base_uri": "https://localhost:8080/"
        },
        "id": "7Tyfwip0aqSl",
        "outputId": "f2f5665d-4b26-4d31-e372-0384539dd108"
      },
      "execution_count": null,
      "outputs": [
        {
          "output_type": "stream",
          "name": "stdout",
          "text": [
            "Sum of even numbers between 1 and 50: 650\n"
          ]
        }
      ]
    },
    {
      "cell_type": "code",
      "source": [
        "#14. Write a program to reverse a string using a while loop.\n",
        "\n",
        "string = input(\"Enter a string: \")\n",
        "reversed_string = \"\"\n",
        "length = len(string)\n",
        "\n",
        "while length > 0:\n",
        "    reversed_string += string[length - 1]\n",
        "    length -= 1\n",
        "\n",
        "print(\"Reversed string:\", reversed_string)"
      ],
      "metadata": {
        "colab": {
          "base_uri": "https://localhost:8080/"
        },
        "id": "iUB1-3xua-YQ",
        "outputId": "41e2fb53-cdf8-4789-ff71-66c3186cee9f"
      },
      "execution_count": null,
      "outputs": [
        {
          "output_type": "stream",
          "name": "stdout",
          "text": [
            "Enter a string: dna\n",
            "Reversed string: and\n"
          ]
        }
      ]
    },
    {
      "cell_type": "code",
      "source": [
        "#15. Write a Python program to calculate the factorial of a number provided by the user using a while loop.\n",
        "\n",
        "number = int(input(\"Enter a number: \"))\n",
        "factorial = 1\n",
        "\n",
        "if number < 0:\n",
        "    print(\"Factorial cannot be calculated for negative numbers\")\n",
        "elif number == 0:\n",
        "    print(\"Factorial of 0 is 1\")\n",
        "else:\n",
        "    while number > 0:\n",
        "        factorial *= number\n",
        "        number -= 1\n",
        "    print(\"Factorial:\", factorial)"
      ],
      "metadata": {
        "colab": {
          "base_uri": "https://localhost:8080/"
        },
        "id": "khgKsaD0bl5i",
        "outputId": "24633ecc-a145-46a2-8221-c189d1627a6b"
      },
      "execution_count": null,
      "outputs": [
        {
          "output_type": "stream",
          "name": "stdout",
          "text": [
            "Enter a number: 6\n",
            "Factorial: 720\n"
          ]
        }
      ]
    }
  ]
}